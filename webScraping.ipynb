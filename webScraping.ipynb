{
 "cells": [
  {
   "cell_type": "code",
   "execution_count": null,
   "id": "aaf6c1c0",
   "metadata": {},
   "outputs": [],
   "source": [
    "import praw\n",
    "from datetime import datetime, timezone\n",
    "\n",
    "reddit = praw.Reddit(\n",
    "                        client_id = \"7jR-LZE6yhAObY3KyvUhug\",\n",
    "                        client_secret = \"JSSY2z5NqTtGI0hM5V0qC6YylcVdaw\",\n",
    "                        user_agent = \"case_study_1\",\n",
    "                        username = \"DS-***\",\n",
    "                        password = \"********\"\n",
    "                    )\n",
    "\n",
    "subred = reddit.subreddit(\"datascience\")"
   ]
  },
  {
   "cell_type": "code",
   "execution_count": null,
   "id": "9f44da16",
   "metadata": {},
   "outputs": [],
   "source": [
    "import pandas as pd\n",
    "\n",
    "finalList = []\n",
    "\n",
    "# Retrieving the posts via subred.top(limit = None) and filtering them with all conditions was only providing me with 69 results.\n",
    "# Instead of .top, I have used the .new method in order to fetch the 100 posts. \n",
    "top = list(subred.new(limit = None))\n",
    "\n",
    "for i in top:\n",
    "    postDate = datetime.fromtimestamp(i.created_utc, tz=timezone.utc)\n",
    "    year = postDate.year\n",
    "    title = i.title\n",
    "    splitTitle = title.split()\n",
    "    titleWordCount = len(splitTitle)\n",
    "    if year == 2024 and i.score > 50 and titleWordCount > 5:\n",
    "        body = i.selftext\n",
    "        dtFormat = postDate.strftime('%Y-%m-%d')\n",
    "        if not body:\n",
    "            body = \"NA\"\n",
    "        i.comments.replace_more(limit=0)\n",
    "        allComments = i.comments.list()\n",
    "        threeComments = sorted(allComments, key=lambda x: x.score, reverse=True)[:3]\n",
    "        ListOfComments = []\n",
    "        for eachComment in threeComments:\n",
    "            ListOfComments.append(eachComment.body)\n",
    "\n",
    "        while len(ListOfComments) < 3:\n",
    "            ListOfComments.append(\"No Comment\")\n",
    "        \n",
    "        post_data = {\n",
    "            'Date'             : dtFormat,\n",
    "            'Post Score'       : i.score,\n",
    "            'Post title'       : title,\n",
    "            'Body of the post' : body,\n",
    "            'Top Comment 1'    : ListOfComments[0],\n",
    "            'Top Comment 2'    : ListOfComments[1],\n",
    "            'Top Comment 3'    : ListOfComments[2],\n",
    "        }\n",
    "        finalList.append(post_data)\n",
    "\n",
    "final100 = finalList[:105]"
   ]
  },
  {
   "cell_type": "code",
   "execution_count": null,
   "id": "6ee47057",
   "metadata": {},
   "outputs": [],
   "source": [
    "import pandas as pd\n",
    "\n",
    "data = pd.DataFrame(final100)\n",
    "\n",
    "data.to_csv('Mandar_Nadkarni_casestudy_1.csv', index=False)"
   ]
  }
 ],
 "metadata": {
  "kernelspec": {
   "display_name": "Python 3 (ipykernel)",
   "language": "python",
   "name": "python3"
  },
  "language_info": {
   "codemirror_mode": {
    "name": "ipython",
    "version": 3
   },
   "file_extension": ".py",
   "mimetype": "text/x-python",
   "name": "python",
   "nbconvert_exporter": "python",
   "pygments_lexer": "ipython3",
   "version": "3.12.4"
  }
 },
 "nbformat": 4,
 "nbformat_minor": 5
}
